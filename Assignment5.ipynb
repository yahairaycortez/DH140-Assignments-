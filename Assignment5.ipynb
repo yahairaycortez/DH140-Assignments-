{
 "cells": [
  {
   "cell_type": "markdown",
   "id": "aab245c6-9d1a-4d6d-8e9d-b376ab2bc360",
   "metadata": {},
   "source": [
    "## Assignment #5 - Yahaira Cortez\n"
   ]
  },
  {
   "cell_type": "markdown",
   "id": "085a5d9b-a284-40ba-adf2-ef30093c22aa",
   "metadata": {},
   "source": [
    "## Step #2 Use requests and BeautifulSoup to make a list of all the CORGIS datasets."
   ]
  },
  {
   "cell_type": "code",
   "execution_count": null,
   "id": "87c34361-c078-4896-86cf-a1418a0a248e",
   "metadata": {},
   "outputs": [],
   "source": [
    "import requests\n",
    "from bs4 import BeautifulSoup\n",
    "response = requests.get('https://corgis-edu.github.io/corgis/csv/')"
   ]
  },
  {
   "cell_type": "code",
   "execution_count": null,
   "id": "00c71766-ccfd-4dd2-a568-4547373d143a",
   "metadata": {},
   "outputs": [],
   "source": [
    "response"
   ]
  },
  {
   "cell_type": "code",
   "execution_count": null,
   "id": "6231c14d-91a4-499e-a16e-c2bd71ba3ca0",
   "metadata": {},
   "outputs": [],
   "source": [
    "html_string = response.text\n",
    "document = BeautifulSoup(html_string, \"html.parser\")\n",
    "document.find('h3')"
   ]
  },
  {
   "cell_type": "code",
   "execution_count": null,
   "id": "32e07fd0-91e7-45c1-a1f9-06a32b250723",
   "metadata": {
    "tags": []
   },
   "outputs": [],
   "source": [
    "document.find_all('h3')"
   ]
  },
  {
   "cell_type": "code",
   "execution_count": 70,
   "id": "3d018f10-0079-429f-9f4d-8a3c99b1ba6c",
   "metadata": {
    "tags": []
   },
   "outputs": [
    {
     "data": {
      "text/plain": [
       "['Aids',\n",
       " 'Airlines',\n",
       " 'Billionaires',\n",
       " 'Broadway',\n",
       " 'Business Dynamics',\n",
       " 'Cancer',\n",
       " 'Cars',\n",
       " 'Classics',\n",
       " 'Construction Permits',\n",
       " 'Construction Spending',\n",
       " 'County Demographics',\n",
       " 'Covid',\n",
       " 'Drugs',\n",
       " 'Earthquakes',\n",
       " 'Election',\n",
       " 'Electricity',\n",
       " 'Emissions',\n",
       " 'Energy',\n",
       " 'Finance',\n",
       " 'Food',\n",
       " 'Food Access',\n",
       " 'Global Development',\n",
       " 'Graduates',\n",
       " 'Health',\n",
       " 'Hospitals',\n",
       " 'Hydropower',\n",
       " 'Ingredients',\n",
       " 'Injuries',\n",
       " 'Labor',\n",
       " 'Medal Of Honor',\n",
       " 'Music',\n",
       " 'Opioids',\n",
       " 'Police Shootings',\n",
       " 'Publishers',\n",
       " 'Real Estate',\n",
       " 'Retail Services',\n",
       " 'School Scores',\n",
       " 'Skyscrapers',\n",
       " 'Slavery',\n",
       " 'State Crime',\n",
       " 'State Demographics',\n",
       " 'State Fragility',\n",
       " 'Suicide Attacks',\n",
       " 'Supreme Court',\n",
       " 'Tate',\n",
       " 'Video Games',\n",
       " 'Weather',\n",
       " 'Wind Turbines']"
      ]
     },
     "execution_count": 70,
     "metadata": {},
     "output_type": "execute_result"
    }
   ],
   "source": [
    "corgis_list = []\n",
    "\n",
    "for i in document.find_all('h3'):\n",
    "   # corgis_list.append(i)\n",
    "    corgis_list.append(i.text.strip())\n",
    "\n",
    "corgis_list\n",
    "#list of datasets"
   ]
  },
  {
   "cell_type": "markdown",
   "id": "184881e6-b2ac-4f7f-8dd0-3bd34caec615",
   "metadata": {},
   "source": [
    "## Step #3 Write a function that takes an element from the list of CORGIS datasets, searches the respective CORGIS page for the CSV download link, and returns a Pandas dataframe."
   ]
  },
  {
   "cell_type": "code",
   "execution_count": null,
   "id": "ca81f9f3-7ade-4079-ad0c-7f566f25e4b1",
   "metadata": {},
   "outputs": [],
   "source": [
    "import pandas as pd\n",
    "#importing pandas library\n",
    "\n",
    "#pdcorgis function\n",
    "def pdcorgis(a):\n",
    "    a = a.lower()\n",
    "    response_ =requests.get('https://corgis-edu.github.io/corgis/csv/' + a + '/')\n",
    "    \n",
    "    html_string = response_.text\n",
    "    document = BeautifulSoup(html_string, \"html.parser\")\n",
    "\n",
    "    for i in document.find_all('a'):\n",
    "        if i.has_attr('download')==True:\n",
    "            b = i['href']\n",
    "            download_link = 'https://corgis-edu.github.io/corgis/csv/' + a + '/'+b\n",
    "            corgisdf = pd.read_csv(download_link)\n",
    "            return corgisdf\n",
    "    "
   ]
  },
  {
   "cell_type": "code",
   "execution_count": 114,
   "id": "23e1409f-f864-4963-833c-4371a5889b34",
   "metadata": {
    "collapsed": true,
    "jupyter": {
     "outputs_hidden": true
    },
    "tags": []
   },
   "outputs": [
    {
     "data": {
      "text/html": [
       "<div>\n",
       "<style scoped>\n",
       "    .dataframe tbody tr th:only-of-type {\n",
       "        vertical-align: middle;\n",
       "    }\n",
       "\n",
       "    .dataframe tbody tr th {\n",
       "        vertical-align: top;\n",
       "    }\n",
       "\n",
       "    .dataframe thead th {\n",
       "        text-align: right;\n",
       "    }\n",
       "</style>\n",
       "<table border=\"1\" class=\"dataframe\">\n",
       "  <thead>\n",
       "    <tr style=\"text-align: right;\">\n",
       "      <th></th>\n",
       "      <th>bibliography.congress classifications</th>\n",
       "      <th>bibliography.languages</th>\n",
       "      <th>bibliography.subjects</th>\n",
       "      <th>bibliography.title</th>\n",
       "      <th>bibliography.type</th>\n",
       "      <th>metadata.downloads</th>\n",
       "      <th>metadata.id</th>\n",
       "      <th>metadata.rank</th>\n",
       "      <th>metadata.url</th>\n",
       "      <th>bibliography.author.birth</th>\n",
       "      <th>...</th>\n",
       "      <th>metrics.sentiments.polarity</th>\n",
       "      <th>metrics.sentiments.subjectivity</th>\n",
       "      <th>metrics.statistics.average letter per word</th>\n",
       "      <th>metrics.statistics.average sentence length</th>\n",
       "      <th>metrics.statistics.average sentence per word</th>\n",
       "      <th>metrics.statistics.characters</th>\n",
       "      <th>metrics.statistics.polysyllables</th>\n",
       "      <th>metrics.statistics.sentences</th>\n",
       "      <th>metrics.statistics.syllables</th>\n",
       "      <th>metrics.statistics.words</th>\n",
       "    </tr>\n",
       "  </thead>\n",
       "  <tbody>\n",
       "    <tr>\n",
       "      <th>0</th>\n",
       "      <td>PR</td>\n",
       "      <td>en</td>\n",
       "      <td>Sisters -- Fiction,Courtship -- Fiction,Social...</td>\n",
       "      <td>Pride and Prejudice</td>\n",
       "      <td>Text</td>\n",
       "      <td>36576</td>\n",
       "      <td>1342</td>\n",
       "      <td>1</td>\n",
       "      <td>https://www.gutenberg.org/ebooks/1342</td>\n",
       "      <td>1775</td>\n",
       "      <td>...</td>\n",
       "      <td>0.136713</td>\n",
       "      <td>0.522239</td>\n",
       "      <td>4.83</td>\n",
       "      <td>18.0</td>\n",
       "      <td>0.05</td>\n",
       "      <td>586794</td>\n",
       "      <td>4603</td>\n",
       "      <td>6511</td>\n",
       "      <td>170648.1</td>\n",
       "      <td>121533</td>\n",
       "    </tr>\n",
       "    <tr>\n",
       "      <th>1</th>\n",
       "      <td>PS</td>\n",
       "      <td>en</td>\n",
       "      <td>Mentally ill women -- Fiction,Feminist fiction...</td>\n",
       "      <td>The Yellow Wallpaper</td>\n",
       "      <td>Text</td>\n",
       "      <td>26363</td>\n",
       "      <td>1952</td>\n",
       "      <td>2</td>\n",
       "      <td>https://www.gutenberg.org/ebooks/1952</td>\n",
       "      <td>1860</td>\n",
       "      <td>...</td>\n",
       "      <td>0.054174</td>\n",
       "      <td>0.534787</td>\n",
       "      <td>4.41</td>\n",
       "      <td>15.0</td>\n",
       "      <td>0.06</td>\n",
       "      <td>26769</td>\n",
       "      <td>102</td>\n",
       "      <td>385</td>\n",
       "      <td>7686.9</td>\n",
       "      <td>6067</td>\n",
       "    </tr>\n",
       "    <tr>\n",
       "      <th>2</th>\n",
       "      <td>PZ,PR</td>\n",
       "      <td>en</td>\n",
       "      <td>Fantasy</td>\n",
       "      <td>Alice's Adventures in Wonderland</td>\n",
       "      <td>Text</td>\n",
       "      <td>18882</td>\n",
       "      <td>11</td>\n",
       "      <td>3</td>\n",
       "      <td>https://www.gutenberg.org/ebooks/11</td>\n",
       "      <td>1832</td>\n",
       "      <td>...</td>\n",
       "      <td>0.041079</td>\n",
       "      <td>0.497276</td>\n",
       "      <td>4.65</td>\n",
       "      <td>17.0</td>\n",
       "      <td>0.06</td>\n",
       "      <td>122719</td>\n",
       "      <td>339</td>\n",
       "      <td>1501</td>\n",
       "      <td>33810.3</td>\n",
       "      <td>26389</td>\n",
       "    </tr>\n",
       "    <tr>\n",
       "      <th>3</th>\n",
       "      <td>PR</td>\n",
       "      <td>en</td>\n",
       "      <td>Monsters -- Fiction;Frankenstein's monster (Fi...</td>\n",
       "      <td>Frankenstein; Or, The Modern Prometheus</td>\n",
       "      <td>Text</td>\n",
       "      <td>17128</td>\n",
       "      <td>84</td>\n",
       "      <td>4</td>\n",
       "      <td>https://www.gutenberg.org/ebooks/84</td>\n",
       "      <td>1797</td>\n",
       "      <td>...</td>\n",
       "      <td>0.100902</td>\n",
       "      <td>0.539516</td>\n",
       "      <td>4.77</td>\n",
       "      <td>23.0</td>\n",
       "      <td>0.04</td>\n",
       "      <td>357604</td>\n",
       "      <td>2604</td>\n",
       "      <td>3239</td>\n",
       "      <td>106802.1</td>\n",
       "      <td>74959</td>\n",
       "    </tr>\n",
       "    <tr>\n",
       "      <th>4</th>\n",
       "      <td>PT</td>\n",
       "      <td>en</td>\n",
       "      <td>Psychological fiction,Metamorphosis -- Fiction</td>\n",
       "      <td>Metamorphosis</td>\n",
       "      <td>Text</td>\n",
       "      <td>15683</td>\n",
       "      <td>5200</td>\n",
       "      <td>5</td>\n",
       "      <td>https://www.gutenberg.org/ebooks/5200</td>\n",
       "      <td>1883</td>\n",
       "      <td>...</td>\n",
       "      <td>0.041997</td>\n",
       "      <td>0.479019</td>\n",
       "      <td>4.56</td>\n",
       "      <td>27.0</td>\n",
       "      <td>0.04</td>\n",
       "      <td>100372</td>\n",
       "      <td>397</td>\n",
       "      <td>800</td>\n",
       "      <td>28752.3</td>\n",
       "      <td>22022</td>\n",
       "    </tr>\n",
       "  </tbody>\n",
       "</table>\n",
       "<p>5 rows × 38 columns</p>\n",
       "</div>"
      ],
      "text/plain": [
       "  bibliography.congress classifications bibliography.languages  \\\n",
       "0                                    PR                     en   \n",
       "1                                    PS                     en   \n",
       "2                                 PZ,PR                     en   \n",
       "3                                    PR                     en   \n",
       "4                                    PT                     en   \n",
       "\n",
       "                               bibliography.subjects  \\\n",
       "0  Sisters -- Fiction,Courtship -- Fiction,Social...   \n",
       "1  Mentally ill women -- Fiction,Feminist fiction...   \n",
       "2                                            Fantasy   \n",
       "3  Monsters -- Fiction;Frankenstein's monster (Fi...   \n",
       "4     Psychological fiction,Metamorphosis -- Fiction   \n",
       "\n",
       "                        bibliography.title bibliography.type  \\\n",
       "0                      Pride and Prejudice              Text   \n",
       "1                     The Yellow Wallpaper              Text   \n",
       "2         Alice's Adventures in Wonderland              Text   \n",
       "3  Frankenstein; Or, The Modern Prometheus              Text   \n",
       "4                            Metamorphosis              Text   \n",
       "\n",
       "   metadata.downloads  metadata.id  metadata.rank  \\\n",
       "0               36576         1342              1   \n",
       "1               26363         1952              2   \n",
       "2               18882           11              3   \n",
       "3               17128           84              4   \n",
       "4               15683         5200              5   \n",
       "\n",
       "                            metadata.url  bibliography.author.birth  ...  \\\n",
       "0  https://www.gutenberg.org/ebooks/1342                       1775  ...   \n",
       "1  https://www.gutenberg.org/ebooks/1952                       1860  ...   \n",
       "2    https://www.gutenberg.org/ebooks/11                       1832  ...   \n",
       "3    https://www.gutenberg.org/ebooks/84                       1797  ...   \n",
       "4  https://www.gutenberg.org/ebooks/5200                       1883  ...   \n",
       "\n",
       "   metrics.sentiments.polarity metrics.sentiments.subjectivity  \\\n",
       "0                     0.136713                        0.522239   \n",
       "1                     0.054174                        0.534787   \n",
       "2                     0.041079                        0.497276   \n",
       "3                     0.100902                        0.539516   \n",
       "4                     0.041997                        0.479019   \n",
       "\n",
       "   metrics.statistics.average letter per word  \\\n",
       "0                                        4.83   \n",
       "1                                        4.41   \n",
       "2                                        4.65   \n",
       "3                                        4.77   \n",
       "4                                        4.56   \n",
       "\n",
       "  metrics.statistics.average sentence length  \\\n",
       "0                                       18.0   \n",
       "1                                       15.0   \n",
       "2                                       17.0   \n",
       "3                                       23.0   \n",
       "4                                       27.0   \n",
       "\n",
       "   metrics.statistics.average sentence per word metrics.statistics.characters  \\\n",
       "0                                          0.05                        586794   \n",
       "1                                          0.06                         26769   \n",
       "2                                          0.06                        122719   \n",
       "3                                          0.04                        357604   \n",
       "4                                          0.04                        100372   \n",
       "\n",
       "   metrics.statistics.polysyllables  metrics.statistics.sentences  \\\n",
       "0                              4603                          6511   \n",
       "1                               102                           385   \n",
       "2                               339                          1501   \n",
       "3                              2604                          3239   \n",
       "4                               397                           800   \n",
       "\n",
       "  metrics.statistics.syllables  metrics.statistics.words  \n",
       "0                     170648.1                    121533  \n",
       "1                       7686.9                      6067  \n",
       "2                      33810.3                     26389  \n",
       "3                     106802.1                     74959  \n",
       "4                      28752.3                     22022  \n",
       "\n",
       "[5 rows x 38 columns]"
      ]
     },
     "execution_count": 114,
     "metadata": {},
     "output_type": "execute_result"
    }
   ],
   "source": [
    "#testing function\n",
    "df = pdcorgis(corgis_list[7])\n",
    "df.head()"
   ]
  },
  {
   "cell_type": "markdown",
   "id": "4ae84d88-863a-4856-803a-a7fd14d4da59",
   "metadata": {},
   "source": [
    "## Step 4: Using dataframes returned by your new function, make a line plot, a bar plot, and a histogram plot"
   ]
  },
  {
   "cell_type": "code",
   "execution_count": 122,
   "id": "6ac33230-6eb4-4a21-8da3-3d572eb6c2f6",
   "metadata": {},
   "outputs": [
    {
     "data": {
      "text/plain": [
       "<AxesSubplot:xlabel='bibliography.author.name'>"
      ]
     },
     "execution_count": 122,
     "metadata": {},
     "output_type": "execute_result"
    },
    {
     "data": {
      "image/png": "[encoded data removed]",
      "text/plain": [
       "<Figure size 432x288 with 1 Axes>"
      ]
     },
     "metadata": {
      "needs_background": "light"
     },
     "output_type": "display_data"
    }
   ],
   "source": [
    "#classics dataset plotted as a bar plot\n",
    "\n",
    "df = pdcorgis(corgis_list[7])\n",
    "df_new =df.loc[0:10 , ['bibliography.author.name','metadata.downloads'] ]\n",
    "df_new.plot(kind='bar',x='bibliography.author.name', y='metadata.downloads',color='darkorange' )"
   ]
  },
  {
   "cell_type": "code",
   "execution_count": 123,
   "id": "5789995b-305a-4277-ac0a-f7ebc1bdb855",
   "metadata": {},
   "outputs": [
    {
     "data": {
      "text/plain": [
       "<AxesSubplot:xlabel='artist.terms'>"
      ]
     },
     "execution_count": 123,
     "metadata": {},
     "output_type": "execute_result"
    },
    {
     "data": {
      "image/png": "[encoded data removed]",
      "text/plain": [
       "<Figure size 864x432 with 1 Axes>"
      ]
     },
     "metadata": {
      "needs_background": "light"
     },
     "output_type": "display_data"
    }
   ],
   "source": [
    "#music dataset plotted as line plot\n",
    "\n",
    "df = pdcorgis(corgis_list[corgis_list.index(\"Music\")])\n",
    "df_new =df.loc[0:10 , ['artist.hotttnesss','artist.terms'] ]\n",
    "df_new.plot(kind='line',x='artist.terms', y='artist.hotttnesss', figsize=(12,6), color ='firebrick')"
   ]
  },
  {
   "cell_type": "code",
   "execution_count": 142,
   "id": "dd8ebd57-94b9-4669-b803-1ba5334345d5",
   "metadata": {},
   "outputs": [
    {
     "data": {
      "text/plain": [
       "array([[<AxesSubplot:title={'center':'Statistics.Attendance'}>]],\n",
       "      dtype=object)"
      ]
     },
     "execution_count": 142,
     "metadata": {},
     "output_type": "execute_result"
    },
    {
     "data": {
      "image/png": "[encoded data removed]",
      "text/plain": [
       "<Figure size 432x288 with 1 Axes>"
      ]
     },
     "metadata": {
      "needs_background": "light"
     },
     "output_type": "display_data"
    }
   ],
   "source": [
    "df = pdcorgis(corgis_list[corgis_list.index(\"Broadway\")])\n",
    "df.hist(column = 'Statistics.Attendance', color ='royalblue')"
   ]
  },
  {
   "cell_type": "code",
   "execution_count": null,
   "id": "8b6133f4-1ebd-4d80-af13-8a02c94b5714",
   "metadata": {},
   "outputs": [],
   "source": []
  }
 ],
 "metadata": {
  "kernelspec": {
   "display_name": "Python 3 (ipykernel)",
   "language": "python",
   "name": "python3"
  },
  "language_info": {
   "codemirror_mode": {
    "name": "ipython",
    "version": 3
   },
   "file_extension": ".py",
   "mimetype": "text/x-python",
   "name": "python",
   "nbconvert_exporter": "python",
   "pygments_lexer": "ipython3",
   "version": "3.9.6"
  }
 },
 "nbformat": 4,
 "nbformat_minor": 5
}
